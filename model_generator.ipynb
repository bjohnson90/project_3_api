{
 "cells": [
  {
   "cell_type": "code",
   "execution_count": 8,
   "metadata": {},
   "outputs": [],
   "source": [
    "import sklearn as sk\n",
    "from sklearn import svm\n",
    "from sklearn.ensemble import RandomForestClassifier\n",
    "from sklearn.linear_model import LogisticRegression\n",
    "import pandas as pd\n",
    "import os\n",
    "import pickle\n",
    "from sklearn import preprocessing\n",
    "from sklearn import utils"
   ]
  },
  {
   "cell_type": "code",
   "execution_count": 9,
   "metadata": {},
   "outputs": [
    {
     "data": {
      "text/html": [
       "<div>\n",
       "<style scoped>\n",
       "    .dataframe tbody tr th:only-of-type {\n",
       "        vertical-align: middle;\n",
       "    }\n",
       "\n",
       "    .dataframe tbody tr th {\n",
       "        vertical-align: top;\n",
       "    }\n",
       "\n",
       "    .dataframe thead th {\n",
       "        text-align: right;\n",
       "    }\n",
       "</style>\n",
       "<table border=\"1\" class=\"dataframe\">\n",
       "  <thead>\n",
       "    <tr style=\"text-align: right;\">\n",
       "      <th></th>\n",
       "      <th>chou_fasman</th>\n",
       "      <th>emini</th>\n",
       "      <th>kolaskar_tongaonkar</th>\n",
       "      <th>isoelectric_point</th>\n",
       "      <th>hydrophobicity</th>\n",
       "      <th>target</th>\n",
       "    </tr>\n",
       "  </thead>\n",
       "  <tbody>\n",
       "    <tr>\n",
       "      <th>0</th>\n",
       "      <td>1.016</td>\n",
       "      <td>0.703</td>\n",
       "      <td>1.018</td>\n",
       "      <td>5.810364</td>\n",
       "      <td>-0.143829</td>\n",
       "      <td>1</td>\n",
       "    </tr>\n",
       "    <tr>\n",
       "      <th>1</th>\n",
       "      <td>0.770</td>\n",
       "      <td>0.179</td>\n",
       "      <td>1.199</td>\n",
       "      <td>6.210876</td>\n",
       "      <td>-0.036905</td>\n",
       "      <td>1</td>\n",
       "    </tr>\n",
       "    <tr>\n",
       "      <th>2</th>\n",
       "      <td>0.852</td>\n",
       "      <td>3.427</td>\n",
       "      <td>0.960</td>\n",
       "      <td>8.223938</td>\n",
       "      <td>0.879227</td>\n",
       "      <td>1</td>\n",
       "    </tr>\n",
       "    <tr>\n",
       "      <th>3</th>\n",
       "      <td>1.410</td>\n",
       "      <td>2.548</td>\n",
       "      <td>0.936</td>\n",
       "      <td>4.237976</td>\n",
       "      <td>-0.521393</td>\n",
       "      <td>1</td>\n",
       "    </tr>\n",
       "    <tr>\n",
       "      <th>4</th>\n",
       "      <td>1.214</td>\n",
       "      <td>1.908</td>\n",
       "      <td>0.937</td>\n",
       "      <td>6.867493</td>\n",
       "      <td>-0.578846</td>\n",
       "      <td>1</td>\n",
       "    </tr>\n",
       "  </tbody>\n",
       "</table>\n",
       "</div>"
      ],
      "text/plain": [
       "   chou_fasman  emini  kolaskar_tongaonkar  isoelectric_point  hydrophobicity  \\\n",
       "0        1.016  0.703                1.018           5.810364       -0.143829   \n",
       "1        0.770  0.179                1.199           6.210876       -0.036905   \n",
       "2        0.852  3.427                0.960           8.223938        0.879227   \n",
       "3        1.410  2.548                0.936           4.237976       -0.521393   \n",
       "4        1.214  1.908                0.937           6.867493       -0.578846   \n",
       "\n",
       "   target  \n",
       "0       1  \n",
       "1       1  \n",
       "2       1  \n",
       "3       1  \n",
       "4       1  "
      ]
     },
     "execution_count": 9,
     "metadata": {},
     "output_type": "execute_result"
    }
   ],
   "source": [
    "training_data = pd.read_csv('./training_data/input_bcell_sars.csv', sep=',',header=0)\n",
    "training_data.drop('parent_protein_id', axis='columns', inplace=True)\n",
    "training_data.drop('protein_seq', axis='columns', inplace=True)\n",
    "training_data.drop('peptide_seq', axis='columns', inplace=True)\n",
    "training_data.drop('start_position', axis='columns', inplace=True)\n",
    "training_data.drop('end_position', axis='columns', inplace=True)\n",
    "training_data.drop('parker', axis='columns', inplace=True)\n",
    "training_data.drop('aromaticity', axis='columns', inplace=True)\n",
    "training_data.drop('stability', axis='columns', inplace=True)\n",
    "training_data.head()"
   ]
  },
  {
   "cell_type": "code",
   "execution_count": 10,
   "metadata": {},
   "outputs": [
    {
     "data": {
      "text/plain": [
       "0.78"
      ]
     },
     "execution_count": 10,
     "metadata": {},
     "output_type": "execute_result"
    }
   ],
   "source": [
    "y = training_data.iloc[:,5]\n",
    "X = training_data.iloc[:,:5]\n",
    "\n",
    "RF = RandomForestClassifier(n_estimators=10, max_depth=5, max_features=5)\n",
    "RF.fit(X, y)\n",
    "RF.predict(X.iloc[460:,:])\n",
    "round(RF.score(X,y), 4)"
   ]
  },
  {
   "cell_type": "code",
   "execution_count": 11,
   "metadata": {},
   "outputs": [
    {
     "data": {
      "text/html": [
       "<div>\n",
       "<style scoped>\n",
       "    .dataframe tbody tr th:only-of-type {\n",
       "        vertical-align: middle;\n",
       "    }\n",
       "\n",
       "    .dataframe tbody tr th {\n",
       "        vertical-align: top;\n",
       "    }\n",
       "\n",
       "    .dataframe thead th {\n",
       "        text-align: right;\n",
       "    }\n",
       "</style>\n",
       "<table border=\"1\" class=\"dataframe\">\n",
       "  <thead>\n",
       "    <tr style=\"text-align: right;\">\n",
       "      <th></th>\n",
       "      <th>chou_fasman</th>\n",
       "      <th>emini</th>\n",
       "      <th>kolaskar_tongaonkar</th>\n",
       "      <th>isoelectric_point</th>\n",
       "      <th>hydrophobicity</th>\n",
       "    </tr>\n",
       "  </thead>\n",
       "  <tbody>\n",
       "    <tr>\n",
       "      <th>0</th>\n",
       "      <td>0.948</td>\n",
       "      <td>0.280</td>\n",
       "      <td>1.033</td>\n",
       "      <td>6.03595</td>\n",
       "      <td>-0.138642</td>\n",
       "    </tr>\n",
       "    <tr>\n",
       "      <th>1</th>\n",
       "      <td>1.114</td>\n",
       "      <td>0.379</td>\n",
       "      <td>1.070</td>\n",
       "      <td>6.03595</td>\n",
       "      <td>-0.138642</td>\n",
       "    </tr>\n",
       "    <tr>\n",
       "      <th>2</th>\n",
       "      <td>1.106</td>\n",
       "      <td>0.592</td>\n",
       "      <td>1.108</td>\n",
       "      <td>6.03595</td>\n",
       "      <td>-0.138642</td>\n",
       "    </tr>\n",
       "    <tr>\n",
       "      <th>3</th>\n",
       "      <td>1.324</td>\n",
       "      <td>0.836</td>\n",
       "      <td>1.053</td>\n",
       "      <td>6.03595</td>\n",
       "      <td>-0.138642</td>\n",
       "    </tr>\n",
       "    <tr>\n",
       "      <th>4</th>\n",
       "      <td>1.326</td>\n",
       "      <td>1.004</td>\n",
       "      <td>0.968</td>\n",
       "      <td>6.03595</td>\n",
       "      <td>-0.138642</td>\n",
       "    </tr>\n",
       "  </tbody>\n",
       "</table>\n",
       "</div>"
      ],
      "text/plain": [
       "   chou_fasman  emini  kolaskar_tongaonkar  isoelectric_point  hydrophobicity\n",
       "0        0.948  0.280                1.033            6.03595       -0.138642\n",
       "1        1.114  0.379                1.070            6.03595       -0.138642\n",
       "2        1.106  0.592                1.108            6.03595       -0.138642\n",
       "3        1.324  0.836                1.053            6.03595       -0.138642\n",
       "4        1.326  1.004                0.968            6.03595       -0.138642"
      ]
     },
     "execution_count": 11,
     "metadata": {},
     "output_type": "execute_result"
    }
   ],
   "source": [
    "test_data = pd.read_csv('./training_data/input_covid.csv', sep=',',header=0)\n",
    "test_data.drop('parent_protein_id', axis='columns', inplace=True)\n",
    "test_data.drop('protein_seq', axis='columns', inplace=True)\n",
    "test_data.drop('peptide_seq', axis='columns', inplace=True)\n",
    "test_data.drop('start_position', axis='columns', inplace=True)\n",
    "test_data.drop('end_position', axis='columns', inplace=True)\n",
    "test_data.drop('parker', axis='columns', inplace=True)\n",
    "test_data.drop('aromaticity', axis='columns', inplace=True)\n",
    "test_data.drop('stability', axis='columns', inplace=True)\n",
    "test_data.head()"
   ]
  },
  {
   "cell_type": "code",
   "execution_count": 12,
   "metadata": {},
   "outputs": [],
   "source": [
    "X = test_data.iloc[:,:5]\n",
    "RF.predict(X.iloc[460:,:])\n",
    "with open('./model/random_forest_model.p', 'wb') as to_write:\n",
    "    pickle.dump(RF, to_write)"
   ]
  }
 ],
 "metadata": {
  "kernelspec": {
   "display_name": "Python 3",
   "language": "python",
   "name": "python3"
  },
  "language_info": {
   "codemirror_mode": {
    "name": "ipython",
    "version": 3
   },
   "file_extension": ".py",
   "mimetype": "text/x-python",
   "name": "python",
   "nbconvert_exporter": "python",
   "pygments_lexer": "ipython3",
   "version": "3.8.5"
  }
 },
 "nbformat": 4,
 "nbformat_minor": 4
}
